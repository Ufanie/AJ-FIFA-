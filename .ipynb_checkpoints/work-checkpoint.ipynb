{
 "cells": [
  {
   "cell_type": "code",
   "execution_count": 4,
   "metadata": {},
   "outputs": [],
   "source": [
    "import pandas as pd\n",
    "import numpy as np\n",
    "import matplotlib.pyplot as plt\n",
    "import seaborn as sns\n",
    "\n",
    "pd.set_option('display.max_columns',None)"
   ]
  },
  {
   "cell_type": "code",
   "execution_count": 5,
   "metadata": {},
   "outputs": [],
   "source": [
    "df=pd.read_excel(\"/Users/PC/Data/messy-data.xlsx\")"
   ]
  },
  {
   "cell_type": "code",
   "execution_count": 6,
   "metadata": {},
   "outputs": [],
   "source": [
    "df.drop('Unnamed: 0',inplace=True, axis=1)"
   ]
  },
  {
   "cell_type": "code",
   "execution_count": 7,
   "metadata": {},
   "outputs": [
    {
     "data": {
      "text/html": [
       "<div>\n",
       "<style scoped>\n",
       "    .dataframe tbody tr th:only-of-type {\n",
       "        vertical-align: middle;\n",
       "    }\n",
       "\n",
       "    .dataframe tbody tr th {\n",
       "        vertical-align: top;\n",
       "    }\n",
       "\n",
       "    .dataframe thead th {\n",
       "        text-align: right;\n",
       "    }\n",
       "</style>\n",
       "<table border=\"1\" class=\"dataframe\">\n",
       "  <thead>\n",
       "    <tr style=\"text-align: right;\">\n",
       "      <th>1</th>\n",
       "      <th>Month, period</th>\n",
       "      <th>Lake Victoria</th>\n",
       "      <th>Simiyu</th>\n",
       "    </tr>\n",
       "  </thead>\n",
       "  <tbody>\n",
       "    <tr>\n",
       "      <th>0</th>\n",
       "      <td>NaN</td>\n",
       "      <td>NaN</td>\n",
       "      <td>NaN</td>\n",
       "    </tr>\n",
       "    <tr>\n",
       "      <th>1</th>\n",
       "      <td>Month, period</td>\n",
       "      <td>Lake Victoria</td>\n",
       "      <td>Simiyu</td>\n",
       "    </tr>\n",
       "    <tr>\n",
       "      <th>2</th>\n",
       "      <td>Jan,2001-2019</td>\n",
       "      <td>3.176mm</td>\n",
       "      <td>2.908474</td>\n",
       "    </tr>\n",
       "    <tr>\n",
       "      <th>3</th>\n",
       "      <td>Feb,2001-2019</td>\n",
       "      <td>3.477mm</td>\n",
       "      <td>1.8mm</td>\n",
       "    </tr>\n",
       "    <tr>\n",
       "      <th>4</th>\n",
       "      <td>Mar,2001-2019</td>\n",
       "      <td>4.687053</td>\n",
       "      <td>2.981053</td>\n",
       "    </tr>\n",
       "  </tbody>\n",
       "</table>\n",
       "</div>"
      ],
      "text/plain": [
       "1  Month, period  Lake Victoria    Simiyu\n",
       "0            NaN            NaN       NaN\n",
       "1  Month, period  Lake Victoria    Simiyu\n",
       "2  Jan,2001-2019        3.176mm  2.908474\n",
       "3  Feb,2001-2019        3.477mm     1.8mm\n",
       "4  Mar,2001-2019       4.687053  2.981053"
      ]
     },
     "execution_count": 7,
     "metadata": {},
     "output_type": "execute_result"
    }
   ],
   "source": [
    "df.columns=df.iloc[1]\n",
    "df.head()"
   ]
  },
  {
   "cell_type": "code",
   "execution_count": 8,
   "metadata": {},
   "outputs": [],
   "source": [
    "#dropping the null values to avert errors\n",
    "df.dropna(inplace=True)\n"
   ]
  },
  {
   "cell_type": "code",
   "execution_count": 9,
   "metadata": {},
   "outputs": [],
   "source": [
    "#To replace the mm values in the column apiece\n",
    "df['Lake Victoria']=df['Lake Victoria'].replace(['3.176mm',\"3.477mm\"], ['3.176','3.477'])\n",
    "df['Simiyu']=df['Simiyu'].replace(['1.8mm'],['1.8'])\n"
   ]
  },
  {
   "cell_type": "code",
   "execution_count": 10,
   "metadata": {},
   "outputs": [],
   "source": [
    "#reename a column\n",
    "df.rename(columns={'Month, period': 'Month', 'Lake Victoria': 'Victoria'}, inplace=True)"
   ]
  },
  {
   "cell_type": "code",
   "execution_count": 11,
   "metadata": {},
   "outputs": [],
   "source": [
    "#split the first column\n",
    "df[['Month', 'Period']] = df['Month'].str.split(',', 1, expand=True)\n"
   ]
  },
  {
   "cell_type": "code",
   "execution_count": 12,
   "metadata": {},
   "outputs": [],
   "source": [
    "#to drop the first row\n",
    "df.drop([1], axis=0, inplace=True)"
   ]
  },
  {
   "cell_type": "code",
   "execution_count": 13,
   "metadata": {},
   "outputs": [],
   "source": [
    "#convert each value to float\n",
    "df['Victoria'] = pd.to_numeric(df['Victoria'])\n",
    "df['Simiyu'] = pd.to_numeric(df['Simiyu'])"
   ]
  },
  {
   "cell_type": "code",
   "execution_count": 14,
   "metadata": {},
   "outputs": [
    {
     "data": {
      "text/plain": [
       "2     2.9\n",
       "3     1.8\n",
       "4     3.0\n",
       "5     4.8\n",
       "6     4.1\n",
       "7     1.0\n",
       "8     0.2\n",
       "9     0.3\n",
       "10    1.2\n",
       "11    2.5\n",
       "12    3.1\n",
       "13    3.9\n",
       "Name: Simiyu, dtype: float64"
      ]
     },
     "execution_count": 14,
     "metadata": {},
     "output_type": "execute_result"
    }
   ],
   "source": [
    "#rounding up the column values\n",
    "df[\"Simiyu\"].round(decimals=1)"
   ]
  },
  {
   "cell_type": "code",
   "execution_count": 15,
   "metadata": {},
   "outputs": [
    {
     "name": "stdout",
     "output_type": "stream",
     "text": [
      "1  Month  Victoria    Simiyu     Period\n",
      "2    Jan  3.176000  2.908474  2001-2019\n",
      "3    Feb  3.477000  1.800000  2001-2019\n",
      "4    Mar  4.687053  2.981053  2001-2019\n",
      "5    Apr  7.004526  4.753579  2001-2019\n",
      "6    May  9.362789  4.077474  2001-2019\n",
      "7    Jun  3.430211  1.046947  2001-2019\n",
      "8    Jul  1.764421  0.195211  2001-2019\n",
      "9    Aug  2.812632  0.333632  2001-2019\n",
      "10   Sep  3.978895  1.205842  2001-2019\n",
      "11   Oct  5.318421  2.454737  2001-2019\n",
      "12   Nov  5.118474  3.091421  2001-2019\n",
      "13   Dec  4.168105  3.890053  2001-2019\n"
     ]
    }
   ],
   "source": [
    "print(df)"
   ]
  },
  {
   "cell_type": "code",
   "execution_count": null,
   "metadata": {},
   "outputs": [],
   "source": []
  }
 ],
 "metadata": {
  "kernelspec": {
   "display_name": "Python 3 (ipykernel)",
   "language": "python",
   "name": "python3"
  },
  "language_info": {
   "codemirror_mode": {
    "name": "ipython",
    "version": 3
   },
   "file_extension": ".py",
   "mimetype": "text/x-python",
   "name": "python",
   "nbconvert_exporter": "python",
   "pygments_lexer": "ipython3",
   "version": "3.9.13"
  }
 },
 "nbformat": 4,
 "nbformat_minor": 2
}
